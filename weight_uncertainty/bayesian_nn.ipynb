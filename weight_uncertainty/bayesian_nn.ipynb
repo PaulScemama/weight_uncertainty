{
 "cells": [
  {
   "cell_type": "code",
   "execution_count": 10,
   "metadata": {},
   "outputs": [],
   "source": [
    "import torch\n",
    "from bayesian_nn import log_variational_per_scalar, log_variational_per_vector, sample_variational_scalars, sample_variational_vectors"
   ]
  },
  {
   "attachments": {},
   "cell_type": "markdown",
   "metadata": {},
   "source": [
    "### `log_variational_per_scalar`"
   ]
  },
  {
   "cell_type": "code",
   "execution_count": 11,
   "metadata": {},
   "outputs": [],
   "source": [
    "weights = torch.randn((25, 34)) \n",
    "mus = torch.randn((25, 34)) + 3\n",
    "rhos = torch.randn((25, 34))\n",
    "\n",
    "weight_matrix_flattened = weights.ravel()\n",
    "mus_flattened = mus.ravel()\n",
    "rhos_flattened = rhos.ravel()\n",
    "\n",
    "assert log_variational_per_scalar(weight_matrix_flattened, mus_flattened, rhos_flattened).shape[0], 25 * 34"
   ]
  },
  {
   "attachments": {},
   "cell_type": "markdown",
   "metadata": {},
   "source": [
    "### `log_variational_per_vector`"
   ]
  },
  {
   "cell_type": "code",
   "execution_count": 12,
   "metadata": {},
   "outputs": [],
   "source": [
    "# 5 instances of a 13-dimensional diagonal multivariate normal distribution\n",
    "weight_vectors = torch.randn((13, 5)) \n",
    "mu_vectors = torch.randn((13, 5)) + 3\n",
    "rho_vectors = torch.randn((13, 5))\n",
    "\n",
    "assert log_variational_per_vector(weight_vectors, mu_vectors, rho_vectors).shape[0] == 13"
   ]
  },
  {
   "cell_type": "code",
   "execution_count": null,
   "metadata": {},
   "outputs": [],
   "source": []
  }
 ],
 "metadata": {
  "kernelspec": {
   "display_name": ".venv",
   "language": "python",
   "name": "python3"
  },
  "language_info": {
   "codemirror_mode": {
    "name": "ipython",
    "version": 3
   },
   "file_extension": ".py",
   "mimetype": "text/x-python",
   "name": "python",
   "nbconvert_exporter": "python",
   "pygments_lexer": "ipython3",
   "version": "3.11.2"
  },
  "orig_nbformat": 4
 },
 "nbformat": 4,
 "nbformat_minor": 2
}
