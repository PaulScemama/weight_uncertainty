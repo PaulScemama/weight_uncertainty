{
 "cells": [
  {
   "cell_type": "code",
   "execution_count": 6,
   "metadata": {},
   "outputs": [],
   "source": [
    "import torch\n",
    "import torch.nn.functional as F\n",
    "from basic import logvariational_fn, samplevariational_fn, logprior_fn\n",
    "import torch.nn as nn"
   ]
  },
  {
   "cell_type": "code",
   "execution_count": 9,
   "metadata": {},
   "outputs": [],
   "source": [
    "def bayes_linear(\n",
    "            in_features, \n",
    "            out_features, \n",
    "            x, \n",
    "            prior_pi: float,\n",
    "            prior_var1: float,\n",
    "            prior_var2: float, \n",
    "        ):\n",
    "\n",
    "    mus = torch.empty(size=(in_features, out_features)).normal_()\n",
    "    rhos = torch.empty(size=(in_features, out_features)).normal_()\n",
    "\n",
    "    sampled_weights = samplevariational_fn(\n",
    "        mus=mus,\n",
    "        rhos=rhos\n",
    "        )\n",
    "    \n",
    "    logvariational_prob = logvariational_fn(sampled_weights, mus, rhos)\n",
    "    logprior_prob = logprior_fn(sampled_weights, prior_pi, prior_var1, prior_var2)\n",
    "\n",
    "    return F.linear(x, sampled_weights.T), logvariational_prob.sum(), logprior_prob.sum()\n",
    "\n",
    "\n",
    "\n"
   ]
  },
  {
   "cell_type": "code",
   "execution_count": 10,
   "metadata": {},
   "outputs": [
    {
     "data": {
      "text/plain": [
       "(tensor([[ 3.9951, -1.3665, -4.0589, -3.4829, -0.1809,  1.6508,  3.2666,  0.0356,\n",
       "           0.3146,  1.3047]]),\n",
       " tensor(-43.5161, dtype=torch.float64),\n",
       " tensor(-133.9280, dtype=torch.float64))"
      ]
     },
     "execution_count": 10,
     "metadata": {},
     "output_type": "execute_result"
    }
   ],
   "source": [
    "x = torch.randn((1, 5), dtype=torch.float)\n",
    "bayes_linear(\n",
    "    in_features=5, \n",
    "    out_features=10, \n",
    "    x=x, \n",
    "    prior_pi = 0.5,\n",
    "    prior_var1=0.7,\n",
    "    prior_var2=0.005)"
   ]
  },
  {
   "cell_type": "code",
   "execution_count": null,
   "metadata": {},
   "outputs": [],
   "source": []
  },
  {
   "cell_type": "code",
   "execution_count": null,
   "metadata": {},
   "outputs": [],
   "source": []
  }
 ],
 "metadata": {
  "kernelspec": {
   "display_name": ".venv",
   "language": "python",
   "name": "python3"
  },
  "language_info": {
   "codemirror_mode": {
    "name": "ipython",
    "version": 3
   },
   "file_extension": ".py",
   "mimetype": "text/x-python",
   "name": "python",
   "nbconvert_exporter": "python",
   "pygments_lexer": "ipython3",
   "version": "3.11.2"
  },
  "orig_nbformat": 4
 },
 "nbformat": 4,
 "nbformat_minor": 2
}
