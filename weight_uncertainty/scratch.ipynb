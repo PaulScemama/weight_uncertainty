{
 "cells": [
  {
   "cell_type": "code",
   "execution_count": 7,
   "metadata": {},
   "outputs": [],
   "source": [
    "import jax\n",
    "import jax.numpy as jnp\n",
    "\n",
    "import mfvi\n",
    "\n",
    "import jax.scipy.stats as stats\n",
    "import matplotlib.pyplot as plt"
   ]
  },
  {
   "cell_type": "code",
   "execution_count": 14,
   "metadata": {},
   "outputs": [],
   "source": [
    "observed = jax.random.normal(jax.random.PRNGKey(1), shape=(500,1)) + 10 * 2\n",
    "\n",
    "def loglikelihood_fn(params, batch):\n",
    "    logpdf = stats.norm.logpdf(batch, params[0], 1)\n",
    "    return jnp.sum(logpdf)\n",
    "\n",
    "def prior_fn(params):\n",
    "    return stats.norm.logpdf(params[0], 10, 1)\n",
    "\n",
    "def logjoint_fn(params, batch):\n",
    "    return prior_fn(params) + loglikelihood_fn(params, batch)\n",
    "\n",
    "\n",
    "def batch_data(rng_key, data, batch_size, data_size):\n",
    "    \"\"\"Return an iterator over batches of data.\"\"\"\n",
    "    while True:\n",
    "        _, rng_key = jax.random.split(rng_key)\n",
    "        idxs = jax.random.choice(\n",
    "            key=rng_key, a=jnp.arange(data_size), shape=(batch_size,)\n",
    "        )\n",
    "        minibatch = jnp.array(tuple(data[idx] for idx in idxs))\n",
    "        yield minibatch"
   ]
  },
  {
   "cell_type": "code",
   "execution_count": 19,
   "metadata": {},
   "outputs": [
    {
     "data": {
      "text/plain": [
       "(array([ 1.,  2.,  3.,  8.,  6., 13.,  4.,  8.,  2.,  3.]),\n",
       " array([19.29388237, 19.4088974 , 19.52391052, 19.63892555, 19.75393867,\n",
       "        19.8689537 , 19.98396873, 20.09898186, 20.21399689, 20.32901001,\n",
       "        20.44402504]),\n",
       " <BarContainer object of 10 artists>)"
      ]
     },
     "execution_count": 19,
     "metadata": {},
     "output_type": "execute_result"
    },
    {
     "data": {
      "image/png": "[encoded data removed]",
      "text/plain": [
       "<Figure size 640x480 with 1 Axes>"
      ]
     },
     "metadata": {},
     "output_type": "display_data"
    }
   ],
   "source": [
    "key = jax.random.PRNGKey(123)\n",
    "\n",
    "\n",
    "\n",
    "mu = jnp.array(15.)\n",
    "rho = jnp.array(2.)\n",
    "params = mu, rho\n",
    "\n",
    "\n",
    "\n",
    "num_steps = 50\n",
    "key, subkey = jax.random.split(key)\n",
    "batches = batch_data(subkey, observed, 100, 500)\n",
    "\n",
    "for step in range(num_steps):\n",
    "\n",
    "    batch = next(batches)\n",
    "\n",
    "    sampled_params, key = mfvi.meanfield_sample(params, key, n_samples=5)\n",
    "\n",
    "    # evaluate elbo\n",
    "    (elbo, key), grad  =  jax.value_and_grad(\n",
    "            mfvi.meanfield_elbo, has_aux=True\n",
    "        )(params, batch, key, logjoint_fn, 3)\n",
    "\n",
    "\n",
    "    params = jax.tree_map(lambda p, g: p - 0.001 * g, params, grad)\n",
    "\n",
    "\n",
    "posterior_samples, _ = mfvi.meanfield_sample(params, key, 50)\n",
    "plt.hist(posterior_samples)"
   ]
  },
  {
   "cell_type": "code",
   "execution_count": null,
   "metadata": {},
   "outputs": [],
   "source": []
  }
 ],
 "metadata": {
  "kernelspec": {
   "display_name": ".venv",
   "language": "python",
   "name": "python3"
  },
  "language_info": {
   "codemirror_mode": {
    "name": "ipython",
    "version": 3
   },
   "file_extension": ".py",
   "mimetype": "text/x-python",
   "name": "python",
   "nbconvert_exporter": "python",
   "pygments_lexer": "ipython3",
   "version": "3.10.10"
  }
 },
 "nbformat": 4,
 "nbformat_minor": 2
}
