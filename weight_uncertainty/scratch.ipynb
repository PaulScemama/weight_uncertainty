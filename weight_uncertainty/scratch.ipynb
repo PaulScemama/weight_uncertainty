{
 "cells": [
  {
   "cell_type": "code",
   "execution_count": 1,
   "metadata": {},
   "outputs": [],
   "source": [
    "import jax\n",
    "import jax.numpy as jnp\n",
    "\n",
    "import mfvi\n",
    "\n",
    "import jax.scipy.stats as stats\n",
    "import optax\n",
    "import seaborn as sns"
   ]
  },
  {
   "cell_type": "code",
   "execution_count": 2,
   "metadata": {},
   "outputs": [],
   "source": [
    "def loglikelihood_fn(params, batch):\n",
    "    logpdf = stats.norm.logpdf(batch, params[0], 1)\n",
    "    return jnp.sum(logpdf)\n",
    "\n",
    "def prior_fn(params):\n",
    "    return stats.norm.logpdf(params[0], 10, 2)\n",
    "\n",
    "@jax.jit\n",
    "def logjoint_fn(params, batch):\n",
    "    return prior_fn(params) + loglikelihood_fn(params, batch)\n",
    "\n",
    "\n",
    "def batch_data(rng_key, data, batch_size, data_size):\n",
    "    \"\"\"Return an iterator over batches of data.\"\"\"\n",
    "    while True:\n",
    "        _, rng_key = jax.random.split(rng_key)\n",
    "        idxs = jax.random.choice(\n",
    "            key=rng_key, a=jnp.arange(data_size), shape=(batch_size,)\n",
    "        )\n",
    "        minibatch = jnp.array(tuple(data[idx] for idx in idxs))\n",
    "        yield minibatch"
   ]
  },
  {
   "cell_type": "code",
   "execution_count": 3,
   "metadata": {},
   "outputs": [],
   "source": [
    "mfvi_ = mfvi.meanfield_vi(\n",
    "    logjoint_fn, optax.sgd(1e-3)\n",
    ")"
   ]
  },
  {
   "cell_type": "code",
   "execution_count": null,
   "metadata": {},
   "outputs": [
    {
     "data": {
      "text/plain": [
       "(MFVIState(mu=Array([1.9803663], dtype=float32), rho=Array([-1.8186588], dtype=float32), opt_state=(EmptyState(), EmptyState())),\n",
       " MFVIInfo(elbo=Array(19717.18, dtype=float32)),\n",
       " Array([3933081256,  374430633], dtype=uint32))"
      ]
     },
     "execution_count": 12,
     "metadata": {},
     "output_type": "execute_result"
    }
   ],
   "source": [
    "key = jax.random.PRNGKey(123)\n",
    "optimizer = optax.sgd(1e-3)\n",
    "pos = jnp.array([1.])\n",
    "mfvi_state = mfvi_.init(pos)\n",
    "\n",
    "key, subkey = jax.random.split(key)\n",
    "data = jax.random.normal(jax.random.PRNGKey(1), shape=(500,1)) + 10 * 2\n",
    "batches = batch_data(subkey, data, 100, 500)"
   ]
  },
  {
   "cell_type": "code",
   "execution_count": null,
   "metadata": {},
   "outputs": [],
   "source": [
    "batch = next(batches)\n",
    "\n",
    "mfvi_.step(key, mfvi_state, batch, 1)"
   ]
  },
  {
   "cell_type": "code",
   "execution_count": null,
   "metadata": {},
   "outputs": [],
   "source": [
    "key = jax.random.PRNGKey(123)\n",
    "optimizer = optax.sgd(1e-3)\n",
    "pos = jnp.array([1.])\n",
    "mfvi_state = mfvi.init(pos, optimizer)\n",
    "\n",
    "\n",
    "num_steps = 100\n",
    "n_samples = 5\n",
    "key, subkey = jax.random.split(key)\n",
    "data = jax.random.normal(jax.random.PRNGKey(1), shape=(500,1)) + 10 * 2\n",
    "batches = batch_data(subkey, data, 100, 500)\n",
    "\n",
    "\n",
    "for _ in range(num_steps):\n",
    "\n",
    "    start = time.time()\n",
    "    batch = next(batches)\n",
    "    end = time.time()\n",
    "    print(f\"Getting next batch time: {end-start}\")\n",
    "\n",
    "    start = time.time()\n",
    "    mfvi_state, mfvi_info, key = mfvi.step(key, mfvi_state, logjoint_fn, optimizer, batch, n_samples)\n",
    "    end = time.time()\n",
    "    print(f\"Doing jax stuff time: {end-start}\")\n",
    "    #print(mfvi_info.elbo)\n",
    "\n",
    "\n",
    "\n",
    "meanfield_params = mfvi_state.mu, mfvi_state.rho\n",
    "posterior_samples, _ = mfvi.meanfield_sample(meanfield_params, key, 50)\n",
    "sns.kdeplot(posterior_samples)"
   ]
  },
  {
   "cell_type": "code",
   "execution_count": null,
   "metadata": {},
   "outputs": [],
   "source": []
  },
  {
   "cell_type": "code",
   "execution_count": null,
   "metadata": {},
   "outputs": [],
   "source": []
  }
 ],
 "metadata": {
  "kernelspec": {
   "display_name": ".venv",
   "language": "python",
   "name": "python3"
  },
  "language_info": {
   "codemirror_mode": {
    "name": "ipython",
    "version": 3
   },
   "file_extension": ".py",
   "mimetype": "text/x-python",
   "name": "python",
   "nbconvert_exporter": "python",
   "pygments_lexer": "ipython3",
   "version": "3.8.8"
  }
 },
 "nbformat": 4,
 "nbformat_minor": 2
}
