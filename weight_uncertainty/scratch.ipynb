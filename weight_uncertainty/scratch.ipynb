{
 "cells": [
  {
   "cell_type": "code",
   "execution_count": 1,
   "metadata": {},
   "outputs": [],
   "source": [
    "import jax\n",
    "import jax.numpy as jnp\n",
    "\n",
    "import mfvi\n",
    "\n",
    "import jax.scipy.stats as stats\n",
    "import optax\n",
    "import seaborn as sns"
   ]
  },
  {
   "cell_type": "code",
   "execution_count": 2,
   "metadata": {},
   "outputs": [],
   "source": [
    "def loglikelihood_fn(params, batch):\n",
    "    logpdf = stats.norm.logpdf(batch, params[0], 1)\n",
    "    return jnp.sum(logpdf)\n",
    "\n",
    "def prior_fn(params):\n",
    "    return stats.norm.logpdf(params[0], 10, 2)\n",
    "\n",
    "@jax.jit\n",
    "def logjoint_fn(params, batch):\n",
    "    return prior_fn(params) + loglikelihood_fn(params, batch)\n",
    "\n",
    "\n",
    "def batch_data(rng_key, data, batch_size, data_size):\n",
    "    \"\"\"Return an iterator over batches of data.\"\"\"\n",
    "    while True:\n",
    "        _, rng_key = jax.random.split(rng_key)\n",
    "        idxs = jax.random.choice(\n",
    "            key=rng_key, a=jnp.arange(data_size), shape=(batch_size,)\n",
    "        )\n",
    "        minibatch = jnp.array(tuple(data[idx] for idx in idxs))\n",
    "        yield minibatch"
   ]
  },
  {
   "cell_type": "code",
   "execution_count": null,
   "metadata": {},
   "outputs": [
    {
     "name": "stdout",
     "output_type": "stream",
     "text": [
      "19717.18\n",
      "16568.67\n",
      "13434.977\n",
      "10624.315\n",
      "8569.692\n",
      "7131.0684\n",
      "5846.574\n",
      "4641.036\n",
      "3917.4895\n",
      "3016.2898\n",
      "2549.813\n",
      "2127.4695\n",
      "1784.789\n",
      "1334.5397\n"
     ]
    },
    {
     "ename": "KeyboardInterrupt",
     "evalue": "",
     "output_type": "error",
     "traceback": [
      "\u001b[0;31m---------------------------------------------------------------------------\u001b[0m",
      "\u001b[0;31mKeyboardInterrupt\u001b[0m                         Traceback (most recent call last)",
      "\u001b[1;32m/home/pscemama/weight_uncertainty/weight_uncertainty/scratch.ipynb Cell 3\u001b[0m line \u001b[0;36m1\n\u001b[1;32m     <a href='vscode-notebook-cell://ssh-remote%2Brapidstart/home/pscemama/weight_uncertainty/weight_uncertainty/scratch.ipynb#W3sdnNjb2RlLXJlbW90ZQ%3D%3D?line=9'>10</a>\u001b[0m data \u001b[39m=\u001b[39m jax\u001b[39m.\u001b[39mrandom\u001b[39m.\u001b[39mnormal(jax\u001b[39m.\u001b[39mrandom\u001b[39m.\u001b[39mPRNGKey(\u001b[39m1\u001b[39m), shape\u001b[39m=\u001b[39m(\u001b[39m500\u001b[39m,\u001b[39m1\u001b[39m)) \u001b[39m+\u001b[39m \u001b[39m10\u001b[39m \u001b[39m*\u001b[39m \u001b[39m2\u001b[39m\n\u001b[1;32m     <a href='vscode-notebook-cell://ssh-remote%2Brapidstart/home/pscemama/weight_uncertainty/weight_uncertainty/scratch.ipynb#W3sdnNjb2RlLXJlbW90ZQ%3D%3D?line=10'>11</a>\u001b[0m batches \u001b[39m=\u001b[39m batch_data(subkey, data, \u001b[39m100\u001b[39m, \u001b[39m500\u001b[39m)\n\u001b[0;32m---> <a href='vscode-notebook-cell://ssh-remote%2Brapidstart/home/pscemama/weight_uncertainty/weight_uncertainty/scratch.ipynb#W3sdnNjb2RlLXJlbW90ZQ%3D%3D?line=13'>14</a>\u001b[0m \u001b[39mfor\u001b[39;00m batch \u001b[39min\u001b[39;00m batches:\n\u001b[1;32m     <a href='vscode-notebook-cell://ssh-remote%2Brapidstart/home/pscemama/weight_uncertainty/weight_uncertainty/scratch.ipynb#W3sdnNjb2RlLXJlbW90ZQ%3D%3D?line=17'>18</a>\u001b[0m     mfvi_state, mfvi_info, key \u001b[39m=\u001b[39m mfvi\u001b[39m.\u001b[39mstep(key, mfvi_state, logjoint_fn, optimizer, batch, n_samples)\n\u001b[1;32m     <a href='vscode-notebook-cell://ssh-remote%2Brapidstart/home/pscemama/weight_uncertainty/weight_uncertainty/scratch.ipynb#W3sdnNjb2RlLXJlbW90ZQ%3D%3D?line=18'>19</a>\u001b[0m     \u001b[39mprint\u001b[39m(mfvi_info\u001b[39m.\u001b[39melbo)\n",
      "\u001b[1;32m/home/pscemama/weight_uncertainty/weight_uncertainty/scratch.ipynb Cell 3\u001b[0m line \u001b[0;36m2\n\u001b[1;32m     <a href='vscode-notebook-cell://ssh-remote%2Brapidstart/home/pscemama/weight_uncertainty/weight_uncertainty/scratch.ipynb#W3sdnNjb2RlLXJlbW90ZQ%3D%3D?line=15'>16</a>\u001b[0m _, rng_key \u001b[39m=\u001b[39m jax\u001b[39m.\u001b[39mrandom\u001b[39m.\u001b[39msplit(rng_key)\n\u001b[1;32m     <a href='vscode-notebook-cell://ssh-remote%2Brapidstart/home/pscemama/weight_uncertainty/weight_uncertainty/scratch.ipynb#W3sdnNjb2RlLXJlbW90ZQ%3D%3D?line=16'>17</a>\u001b[0m idxs \u001b[39m=\u001b[39m jax\u001b[39m.\u001b[39mrandom\u001b[39m.\u001b[39mchoice(\n\u001b[1;32m     <a href='vscode-notebook-cell://ssh-remote%2Brapidstart/home/pscemama/weight_uncertainty/weight_uncertainty/scratch.ipynb#W3sdnNjb2RlLXJlbW90ZQ%3D%3D?line=17'>18</a>\u001b[0m     key\u001b[39m=\u001b[39mrng_key, a\u001b[39m=\u001b[39mjnp\u001b[39m.\u001b[39marange(data_size), shape\u001b[39m=\u001b[39m(batch_size,)\n\u001b[1;32m     <a href='vscode-notebook-cell://ssh-remote%2Brapidstart/home/pscemama/weight_uncertainty/weight_uncertainty/scratch.ipynb#W3sdnNjb2RlLXJlbW90ZQ%3D%3D?line=18'>19</a>\u001b[0m )\n\u001b[0;32m---> <a href='vscode-notebook-cell://ssh-remote%2Brapidstart/home/pscemama/weight_uncertainty/weight_uncertainty/scratch.ipynb#W3sdnNjb2RlLXJlbW90ZQ%3D%3D?line=19'>20</a>\u001b[0m minibatch \u001b[39m=\u001b[39m jnp\u001b[39m.\u001b[39marray(\u001b[39mtuple\u001b[39;49m(data[idx] \u001b[39mfor\u001b[39;49;00m idx \u001b[39min\u001b[39;49;00m idxs))\n\u001b[1;32m     <a href='vscode-notebook-cell://ssh-remote%2Brapidstart/home/pscemama/weight_uncertainty/weight_uncertainty/scratch.ipynb#W3sdnNjb2RlLXJlbW90ZQ%3D%3D?line=20'>21</a>\u001b[0m \u001b[39myield\u001b[39;00m minibatch\n",
      "\u001b[1;32m/home/pscemama/weight_uncertainty/weight_uncertainty/scratch.ipynb Cell 3\u001b[0m line \u001b[0;36m2\n\u001b[1;32m     <a href='vscode-notebook-cell://ssh-remote%2Brapidstart/home/pscemama/weight_uncertainty/weight_uncertainty/scratch.ipynb#W3sdnNjb2RlLXJlbW90ZQ%3D%3D?line=15'>16</a>\u001b[0m _, rng_key \u001b[39m=\u001b[39m jax\u001b[39m.\u001b[39mrandom\u001b[39m.\u001b[39msplit(rng_key)\n\u001b[1;32m     <a href='vscode-notebook-cell://ssh-remote%2Brapidstart/home/pscemama/weight_uncertainty/weight_uncertainty/scratch.ipynb#W3sdnNjb2RlLXJlbW90ZQ%3D%3D?line=16'>17</a>\u001b[0m idxs \u001b[39m=\u001b[39m jax\u001b[39m.\u001b[39mrandom\u001b[39m.\u001b[39mchoice(\n\u001b[1;32m     <a href='vscode-notebook-cell://ssh-remote%2Brapidstart/home/pscemama/weight_uncertainty/weight_uncertainty/scratch.ipynb#W3sdnNjb2RlLXJlbW90ZQ%3D%3D?line=17'>18</a>\u001b[0m     key\u001b[39m=\u001b[39mrng_key, a\u001b[39m=\u001b[39mjnp\u001b[39m.\u001b[39marange(data_size), shape\u001b[39m=\u001b[39m(batch_size,)\n\u001b[1;32m     <a href='vscode-notebook-cell://ssh-remote%2Brapidstart/home/pscemama/weight_uncertainty/weight_uncertainty/scratch.ipynb#W3sdnNjb2RlLXJlbW90ZQ%3D%3D?line=18'>19</a>\u001b[0m )\n\u001b[0;32m---> <a href='vscode-notebook-cell://ssh-remote%2Brapidstart/home/pscemama/weight_uncertainty/weight_uncertainty/scratch.ipynb#W3sdnNjb2RlLXJlbW90ZQ%3D%3D?line=19'>20</a>\u001b[0m minibatch \u001b[39m=\u001b[39m jnp\u001b[39m.\u001b[39marray(\u001b[39mtuple\u001b[39m(data[idx] \u001b[39mfor\u001b[39;00m idx \u001b[39min\u001b[39;00m idxs))\n\u001b[1;32m     <a href='vscode-notebook-cell://ssh-remote%2Brapidstart/home/pscemama/weight_uncertainty/weight_uncertainty/scratch.ipynb#W3sdnNjb2RlLXJlbW90ZQ%3D%3D?line=20'>21</a>\u001b[0m \u001b[39myield\u001b[39;00m minibatch\n",
      "File \u001b[0;32m~/weight_uncertainty/.venv/lib/python3.8/site-packages/jax/_src/array.py:317\u001b[0m, in \u001b[0;36mArrayImpl.__getitem__\u001b[0;34m(self, idx)\u001b[0m\n\u001b[1;32m    315\u001b[0m   \u001b[39mreturn\u001b[39;00m lax_numpy\u001b[39m.\u001b[39m_rewriting_take(\u001b[39mself\u001b[39m, idx)\n\u001b[1;32m    316\u001b[0m \u001b[39melse\u001b[39;00m:\n\u001b[0;32m--> 317\u001b[0m   \u001b[39mreturn\u001b[39;00m lax_numpy\u001b[39m.\u001b[39;49m_rewriting_take(\u001b[39mself\u001b[39;49m, idx)\n",
      "File \u001b[0;32m~/weight_uncertainty/.venv/lib/python3.8/site-packages/jax/_src/numpy/lax_numpy.py:4128\u001b[0m, in \u001b[0;36m_rewriting_take\u001b[0;34m(arr, idx, indices_are_sorted, unique_indices, mode, fill_value)\u001b[0m\n\u001b[1;32m   4119\u001b[0m \u001b[39mdef\u001b[39;00m \u001b[39m_rewriting_take\u001b[39m(arr, idx, indices_are_sorted\u001b[39m=\u001b[39m\u001b[39mFalse\u001b[39;00m, unique_indices\u001b[39m=\u001b[39m\u001b[39mFalse\u001b[39;00m,\n\u001b[1;32m   4120\u001b[0m                     mode\u001b[39m=\u001b[39m\u001b[39mNone\u001b[39;00m, fill_value\u001b[39m=\u001b[39m\u001b[39mNone\u001b[39;00m):\n\u001b[1;32m   4121\u001b[0m   \u001b[39m# Computes arr[idx].\u001b[39;00m\n\u001b[0;32m   (...)\u001b[0m\n\u001b[1;32m   4125\u001b[0m   \u001b[39m# For simplicity of generated primitives, we call lax.dynamic_slice in the\u001b[39;00m\n\u001b[1;32m   4126\u001b[0m   \u001b[39m# simplest cases: i.e. non-dynamic arrays indexed with integers and slices.\u001b[39;00m\n\u001b[0;32m-> 4128\u001b[0m   \u001b[39mif\u001b[39;00m (result \u001b[39m:=\u001b[39m _attempt_rewriting_take_via_slice(arr, idx, mode)) \u001b[39mis\u001b[39;00m \u001b[39mnot\u001b[39;00m \u001b[39mNone\u001b[39;00m:\n\u001b[1;32m   4129\u001b[0m     \u001b[39mreturn\u001b[39;00m result\n\u001b[1;32m   4131\u001b[0m   \u001b[39m# TODO(mattjj,dougalm): expand dynamic shape indexing support\u001b[39;00m\n",
      "File \u001b[0;32m~/weight_uncertainty/.venv/lib/python3.8/site-packages/jax/_src/numpy/lax_numpy.py:4113\u001b[0m, in \u001b[0;36m_attempt_rewriting_take_via_slice\u001b[0;34m(arr, idx, mode)\u001b[0m\n\u001b[1;32m   4111\u001b[0m \u001b[39mif\u001b[39;00m \u001b[39mlen\u001b[39m(start_indices) \u001b[39m>\u001b[39m \u001b[39m1\u001b[39m:\n\u001b[1;32m   4112\u001b[0m   start_indices \u001b[39m=\u001b[39m util\u001b[39m.\u001b[39mpromote_dtypes(\u001b[39m*\u001b[39mstart_indices)\n\u001b[0;32m-> 4113\u001b[0m arr \u001b[39m=\u001b[39m lax\u001b[39m.\u001b[39;49mdynamic_slice(arr, start_indices\u001b[39m=\u001b[39;49mstart_indices, slice_sizes\u001b[39m=\u001b[39;49mslice_sizes)\n\u001b[1;32m   4114\u001b[0m \u001b[39mif\u001b[39;00m int_indices:\n\u001b[1;32m   4115\u001b[0m   arr \u001b[39m=\u001b[39m lax\u001b[39m.\u001b[39msqueeze(arr, \u001b[39mtuple\u001b[39m(int_indices))\n",
      "File \u001b[0;32m~/weight_uncertainty/.venv/lib/python3.8/site-packages/jax/_src/lax/slicing.py:105\u001b[0m, in \u001b[0;36mdynamic_slice\u001b[0;34m(operand, start_indices, slice_sizes)\u001b[0m\n\u001b[1;32m     63\u001b[0m \u001b[39mdef\u001b[39;00m \u001b[39mdynamic_slice\u001b[39m(\n\u001b[1;32m     64\u001b[0m     operand: Union[Array, np\u001b[39m.\u001b[39mndarray],\n\u001b[1;32m     65\u001b[0m     start_indices: Union[Union[Array, np\u001b[39m.\u001b[39mndarray], Sequence[ArrayLike]],\n\u001b[1;32m     66\u001b[0m     slice_sizes: Shape,\n\u001b[1;32m     67\u001b[0m ) \u001b[39m-\u001b[39m\u001b[39m>\u001b[39m Array:\n\u001b[1;32m     68\u001b[0m \u001b[39m  \u001b[39m\u001b[39m\"\"\"Wraps XLA's `DynamicSlice\u001b[39;00m\n\u001b[1;32m     69\u001b[0m \u001b[39m  <https://www.tensorflow.org/xla/operation_semantics#dynamicslice>`_\u001b[39;00m\n\u001b[1;32m     70\u001b[0m \u001b[39m  operator.\u001b[39;00m\n\u001b[0;32m   (...)\u001b[0m\n\u001b[1;32m    103\u001b[0m \u001b[39m           [ 8,  9, 10, 11]], dtype=int32)\u001b[39;00m\n\u001b[1;32m    104\u001b[0m \u001b[39m  \"\"\"\u001b[39;00m\n\u001b[0;32m--> 105\u001b[0m   start_indices \u001b[39m=\u001b[39m _dynamic_slice_indices(operand, start_indices)\n\u001b[1;32m    106\u001b[0m   \u001b[39mif\u001b[39;00m jax\u001b[39m.\u001b[39mconfig\u001b[39m.\u001b[39mjax_dynamic_shapes:\n\u001b[1;32m    107\u001b[0m     dynamic_sizes, static_sizes \u001b[39m=\u001b[39m lax\u001b[39m.\u001b[39m_extract_tracers_dyn_shape(slice_sizes)\n",
      "File \u001b[0;32m~/weight_uncertainty/.venv/lib/python3.8/site-packages/jax/_src/lax/slicing.py:2174\u001b[0m, in \u001b[0;36m_dynamic_slice_indices\u001b[0;34m(operand, start_indices)\u001b[0m\n\u001b[1;32m   2172\u001b[0m     \u001b[39mcontinue\u001b[39;00m\n\u001b[1;32m   2173\u001b[0m   d_arr \u001b[39m=\u001b[39m lax\u001b[39m.\u001b[39mconvert_element_type(d, _dtype(i))\n\u001b[0;32m-> 2174\u001b[0m   result\u001b[39m.\u001b[39mappend(lax\u001b[39m.\u001b[39mselect(i \u001b[39m<\u001b[39;49m \u001b[39m0\u001b[39;49m, i \u001b[39m+\u001b[39m d_arr, i))\n\u001b[1;32m   2175\u001b[0m \u001b[39mreturn\u001b[39;00m result\n",
      "File \u001b[0;32m~/weight_uncertainty/.venv/lib/python3.8/site-packages/jax/_src/numpy/array_methods.py:258\u001b[0m, in \u001b[0;36m_defer_to_unrecognized_arg.<locals>.deferring_binary_op\u001b[0;34m(self, other)\u001b[0m\n\u001b[1;32m    256\u001b[0m args \u001b[39m=\u001b[39m (other, \u001b[39mself\u001b[39m) \u001b[39mif\u001b[39;00m swap \u001b[39melse\u001b[39;00m (\u001b[39mself\u001b[39m, other)\n\u001b[1;32m    257\u001b[0m \u001b[39mif\u001b[39;00m \u001b[39misinstance\u001b[39m(other, _accepted_binop_types):\n\u001b[0;32m--> 258\u001b[0m   \u001b[39mreturn\u001b[39;00m binary_op(\u001b[39m*\u001b[39;49margs)\n\u001b[1;32m    259\u001b[0m \u001b[39mif\u001b[39;00m \u001b[39misinstance\u001b[39m(other, _rejected_binop_types):\n\u001b[1;32m    260\u001b[0m   \u001b[39mraise\u001b[39;00m \u001b[39mTypeError\u001b[39;00m(\u001b[39mf\u001b[39m\u001b[39m\"\u001b[39m\u001b[39munsupported operand type(s) for \u001b[39m\u001b[39m{\u001b[39;00mopchar\u001b[39m}\u001b[39;00m\u001b[39m: \u001b[39m\u001b[39m\"\u001b[39m\n\u001b[1;32m    261\u001b[0m                   \u001b[39mf\u001b[39m\u001b[39m\"\u001b[39m\u001b[39m{\u001b[39;00m\u001b[39mtype\u001b[39m(args[\u001b[39m0\u001b[39m])\u001b[39m.\u001b[39m\u001b[39m__name__\u001b[39m\u001b[39m!r}\u001b[39;00m\u001b[39m and \u001b[39m\u001b[39m{\u001b[39;00m\u001b[39mtype\u001b[39m(args[\u001b[39m1\u001b[39m])\u001b[39m.\u001b[39m\u001b[39m__name__\u001b[39m\u001b[39m!r}\u001b[39;00m\u001b[39m\"\u001b[39m)\n",
      "\u001b[0;31mKeyboardInterrupt\u001b[0m: "
     ]
    }
   ],
   "source": [
    "key = jax.random.PRNGKey(123)\n",
    "optimizer = optax.sgd(1e-3)\n",
    "pos = jnp.array([1.])\n",
    "mfvi_state = mfvi.init(pos, optimizer)\n",
    "\n",
    "\n",
    "num_steps = 100\n",
    "n_samples = 5\n",
    "key, subkey = jax.random.split(key)\n",
    "data = jax.random.normal(jax.random.PRNGKey(1), shape=(500,1)) + 10 * 2\n",
    "batches = batch_data(subkey, data, 100, 500)\n",
    "\n",
    "\n",
    "for _ in range(num_steps):\n",
    "\n",
    "    start = time.time()\n",
    "    batch = next(batches)\n",
    "    end = time.time()\n",
    "    print(f\"Getting next batch time: {end-start}\")\n",
    "\n",
    "    start = time.time()\n",
    "    mfvi_state, mfvi_info, key = mfvi.step(key, mfvi_state, logjoint_fn, optimizer, batch, n_samples)\n",
    "    end = time.time()\n",
    "    print(f\"Doing jax stuff time: {end-start}\")\n",
    "    #print(mfvi_info.elbo)\n",
    "\n",
    "\n",
    "\n",
    "meanfield_params = mfvi_state.mu, mfvi_state.rho\n",
    "posterior_samples, _ = mfvi.meanfield_sample(meanfield_params, key, 50)\n",
    "sns.kdeplot(posterior_samples)"
   ]
  },
  {
   "cell_type": "code",
   "execution_count": null,
   "metadata": {},
   "outputs": [],
   "source": []
  },
  {
   "cell_type": "code",
   "execution_count": null,
   "metadata": {},
   "outputs": [],
   "source": []
  }
 ],
 "metadata": {
  "kernelspec": {
   "display_name": ".venv",
   "language": "python",
   "name": "python3"
  },
  "language_info": {
   "codemirror_mode": {
    "name": "ipython",
    "version": 3
   },
   "file_extension": ".py",
   "mimetype": "text/x-python",
   "name": "python",
   "nbconvert_exporter": "python",
   "pygments_lexer": "ipython3",
   "version": "3.8.8"
  }
 },
 "nbformat": 4,
 "nbformat_minor": 2
}
