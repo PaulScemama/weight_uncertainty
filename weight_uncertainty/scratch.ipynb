{
 "cells": [
  {
   "cell_type": "code",
   "execution_count": 1,
   "metadata": {},
   "outputs": [],
   "source": [
    "import jax\n",
    "import jax.numpy as jnp\n",
    "\n",
    "import mfvi\n",
    "\n",
    "from typing import NamedTuple, Union, Iterable, Mapping, Any\n",
    "from optax import OptState"
   ]
  },
  {
   "cell_type": "code",
   "execution_count": 2,
   "metadata": {},
   "outputs": [
    {
     "name": "stdout",
     "output_type": "stream",
     "text": [
      "-1.9866061\n"
     ]
    }
   ],
   "source": [
    "mu = jnp.zeros((1,))\n",
    "rho = jnp.ones((1,))\n",
    "sample = jnp.ones((1,))\n",
    "params = mu, rho\n",
    "meanfield_logprob = mfvi.meanfield_logprob(params, sample)\n",
    "print(meanfield_logprob)"
   ]
  },
  {
   "cell_type": "code",
   "execution_count": 13,
   "metadata": {},
   "outputs": [],
   "source": [
    "mu = jnp.zeros((1,))\n",
    "rho = jnp.ones((1,))\n",
    "sample = jnp.zeros((1,))\n",
    "\n",
    "params = mu, rho\n",
    "sampled_params, new_key = mfvi.meanfield_sample(params, jax.random.PRNGKey(1), 2)"
   ]
  },
  {
   "cell_type": "code",
   "execution_count": 14,
   "metadata": {},
   "outputs": [
    {
     "data": {
      "text/plain": [
       "Array(-4.55315, dtype=float32)"
      ]
     },
     "execution_count": 14,
     "metadata": {},
     "output_type": "execute_result"
    }
   ],
   "source": [
    "meanfield_logprob = mfvi.meanfield_logprob(params, sampled_params)\n",
    "meanfield_logprob"
   ]
  },
  {
   "cell_type": "code",
   "execution_count": 22,
   "metadata": {},
   "outputs": [],
   "source": [
    "observed = jax.random.normal(jax.random.PRNGKey(1), shape=(100,)) + 10 * 2\n",
    "def logdensity_fn(x):\n",
    "    logpdf = jax.scipy.stats.norm.logpdf(observed, x[0], x[1])\n",
    "    return jnp.sum(logpdf)"
   ]
  },
  {
   "cell_type": "code",
   "execution_count": 23,
   "metadata": {},
   "outputs": [
    {
     "name": "stdout",
     "output_type": "stream",
     "text": [
      "-2.183433 -27209.63\n"
     ]
    },
    {
     "data": {
      "text/plain": [
       "(Array(27207.447, dtype=float32),\n",
       " Array([ 794799940, 3892463417], dtype=uint32))"
      ]
     },
     "execution_count": 23,
     "metadata": {},
     "output_type": "execute_result"
    }
   ],
   "source": [
    "mfvi.meanfield_elbo(\n",
    "    params,\n",
    "    jax.random.PRNGKey(2),\n",
    "    logdensity_fn, \n",
    "    5\n",
    ")"
   ]
  },
  {
   "cell_type": "code",
   "execution_count": null,
   "metadata": {},
   "outputs": [],
   "source": []
  }
 ],
 "metadata": {
  "kernelspec": {
   "display_name": ".venv",
   "language": "python",
   "name": "python3"
  },
  "language_info": {
   "codemirror_mode": {
    "name": "ipython",
    "version": 3
   },
   "file_extension": ".py",
   "mimetype": "text/x-python",
   "name": "python",
   "nbconvert_exporter": "python",
   "pygments_lexer": "ipython3",
   "version": "3.10.10"
  }
 },
 "nbformat": 4,
 "nbformat_minor": 2
}
