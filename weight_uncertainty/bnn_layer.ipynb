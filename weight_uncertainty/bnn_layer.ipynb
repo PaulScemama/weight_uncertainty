{
 "cells": [
  {
   "cell_type": "code",
   "execution_count": 3,
   "metadata": {},
   "outputs": [],
   "source": [
    "from flax import linen as nn \n",
    "from flax.linen import initializers\n",
    "from flax.core import freeze, unfreeze\n",
    "from flax.linen.module import compact\n",
    "from basic import logprior_fn, logvariational_fn, samplevariational_fn, sigmas_from_rhos\n",
    "from typing import (Any, Callable, Iterable, List, Optional, Sequence, Tuple,\n",
    "                    Union)\n",
    "import jax.numpy as jnp\n",
    "import jax.random as random\n",
    "from jax import lax\n",
    "PRNGKey = Any\n",
    "Shape = Tuple[int, ...]\n",
    "Dtype = Any  # this could be a real type?\n",
    "Array = Any\n",
    "default_kernel_init = initializers.lecun_normal()"
   ]
  },
  {
   "cell_type": "code",
   "execution_count": 44,
   "metadata": {},
   "outputs": [],
   "source": [
    "class BNNLayer(nn.Module):\n",
    "\n",
    "    features: int\n",
    "    # prior_pi: float\n",
    "    # prior_var1: float\n",
    "    # prior_var2: float\n",
    "    parameter_init: Callable = nn.initializers.lecun_normal()\n",
    "\n",
    "    @compact\n",
    "    def __call__(self, sampling_key, inputs, n_samples: int):\n",
    "        mus = self.param(\n",
    "            \"mus\", \n",
    "            self.parameter_init, \n",
    "            (jnp.shape(inputs)[-1] + 1, self.features))\n",
    "        \n",
    "        rhos = self.param(\n",
    "            \"rhos\",\n",
    "            self.parameter_init,\n",
    "            (jnp.shape(inputs)[-1] + 1, self.features)\n",
    "        )\n",
    "\n",
    "        weights = samplevariational_fn(\n",
    "            mus=mus,\n",
    "            rhos=rhos,\n",
    "            # KEY IS CONSTANT RIGHT NOW\n",
    "            key=sampling_key,\n",
    "            n_samples=n_samples\n",
    "        )\n",
    "\n",
    "        # Augment inputs by adding a column of 1s so that\n",
    "        # biases don't need to be separately created.\n",
    "        column_of_ones = jnp.ones((jnp.shape(inputs)[0], 1))\n",
    "        inputs_augmented = jnp.concatenate((column_of_ones, inputs), axis=-1)\n",
    "\n",
    "        y = jnp.dot(inputs_augmented, weights)\n",
    "\n",
    "        return y\n",
    "\n"
   ]
  },
  {
   "cell_type": "code",
   "execution_count": 52,
   "metadata": {},
   "outputs": [
    {
     "name": "stdout",
     "output_type": "stream",
     "text": [
      "FrozenDict({\n",
      "    params: {\n",
      "        mus: Array([[-0.02930064,  0.22184654, -0.8278271 ],\n",
      "               [ 0.843966  ,  0.0176126 ,  0.83982617],\n",
      "               [ 0.6925206 ,  0.13406326,  0.6939206 ],\n",
      "               [-0.6244742 , -0.9194189 ,  0.11918769],\n",
      "               [-0.21873963,  0.2695162 ,  0.4354371 ]], dtype=float32),\n",
      "        rhos: Array([[-0.2408339 ,  0.10038533,  0.661483  ],\n",
      "               [-1.001577  ,  0.18277498, -0.79746354],\n",
      "               [ 0.27618888, -0.06239573,  0.05086489],\n",
      "               [-0.27124298,  0.09979365, -0.6051223 ],\n",
      "               [ 0.24168347,  0.08925466, -0.7675577 ]], dtype=float32),\n",
      "    },\n",
      "})\n"
     ]
    },
    {
     "data": {
      "text/plain": [
       "Array([[ 1.3309863 ,  2.221767  , -0.27026787],\n",
       "       [ 1.2240943 ,  2.5699005 , -0.3441275 ],\n",
       "       [ 1.5596361 ,  2.3207808 ,  0.12029155],\n",
       "       [ 1.3289882 ,  1.7428572 , -0.19145672]], dtype=float32)"
      ]
     },
     "execution_count": 52,
     "metadata": {},
     "output_type": "execute_result"
    }
   ],
   "source": [
    "key1, key2, key3 = random.split(random.PRNGKey(0), 3)\n",
    "\n",
    "x = random.uniform(key1, (4,4))\n",
    "model = BNNLayer(features=3)\n",
    "params = model.init(\n",
    "    rngs=key2, \n",
    "    sampling_key=key3,  \n",
    "    inputs=x, \n",
    "    n_samples=1)\n",
    "print(params)\n",
    "y = model.apply(params, key3, x, 1)\n",
    "y\n"
   ]
  },
  {
   "cell_type": "code",
   "execution_count": 48,
   "metadata": {},
   "outputs": [
    {
     "name": "stdout",
     "output_type": "stream",
     "text": [
      "initialized parameters:\n",
      " FrozenDict({\n",
      "    params: {\n",
      "        kernel: Array([[ 0.61506   , -0.22728713,  0.6054702 ],\n",
      "               [-0.29617992,  1.1232013 , -0.879759  ],\n",
      "               [-0.35162622,  0.3806491 ,  0.6893246 ],\n",
      "               [-0.1151355 ,  0.04567898, -1.091212  ]], dtype=float32),\n",
      "    },\n",
      "})\n",
      "output:\n",
      " [[ 0.61506    -0.22728713  0.6054702 ]\n",
      " [-0.29617992  1.1232013  -0.879759  ]\n",
      " [-0.35162622  0.3806491   0.6893246 ]\n",
      " [-0.1151355   0.04567898 -1.091212  ]]\n"
     ]
    }
   ],
   "source": [
    "class SimpleDense(nn.Module):\n",
    "  features: int\n",
    "  kernel_init: Callable = nn.initializers.lecun_normal()\n",
    "  bias_init: Callable = nn.initializers.zeros_init()\n",
    "\n",
    "  @nn.compact\n",
    "  def __call__(self, inputs):\n",
    "    kernel = self.param('kernel',\n",
    "                        self.kernel_init, # Initialization function\n",
    "                        (inputs.shape[-1], self.features))  # shape info.\n",
    "    \n",
    "    y = lax.dot_general(inputs, kernel,\n",
    "                        (((inputs.ndim - 1,), (0,)), ((), ())),) # TODO Why not jnp.dot?\n",
    "    bias = self.param('bias', self.bias_init, (self.features,))\n",
    "    y = y + bias\n",
    "    return y\n",
    "\n",
    "key1, key2 = random.split(random.PRNGKey(0), 2)\n",
    "x = random.uniform(key1, (4,4))\n",
    "\n",
    "model = SimpleDense(features=3)\n",
    "params = model.init(key2, x)\n",
    "y = model.apply(params, x)\n",
    "\n",
    "print('initialized parameters:\\n', params)\n",
    "print('output:\\n', y)"
   ]
  },
  {
   "cell_type": "code",
   "execution_count": null,
   "metadata": {},
   "outputs": [],
   "source": []
  }
 ],
 "metadata": {
  "kernelspec": {
   "display_name": ".venv",
   "language": "python",
   "name": "python3"
  },
  "language_info": {
   "codemirror_mode": {
    "name": "ipython",
    "version": 3
   },
   "file_extension": ".py",
   "mimetype": "text/x-python",
   "name": "python",
   "nbconvert_exporter": "python",
   "pygments_lexer": "ipython3",
   "version": "3.10.10"
  },
  "orig_nbformat": 4
 },
 "nbformat": 4,
 "nbformat_minor": 2
}
