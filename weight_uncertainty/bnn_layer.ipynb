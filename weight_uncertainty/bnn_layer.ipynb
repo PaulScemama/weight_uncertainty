{
 "cells": [
  {
   "cell_type": "code",
   "execution_count": 1,
   "metadata": {},
   "outputs": [],
   "source": [
    "from flax import linen as nn \n",
    "from flax.linen import initializers\n",
    "from flax.core import freeze, unfreeze\n",
    "from flax.linen.module import compact\n",
    "from basic import logprior_fn, logvariational_fn, samplevariational_fn, sigmas_from_rhos\n",
    "from typing import (Any, Callable, Iterable, List, Optional, Sequence, Tuple,\n",
    "                    Union)\n",
    "import jax\n",
    "import matplotlib.pyplot as plt\n",
    "import jax.numpy as jnp\n",
    "import jax.random as random\n",
    "from jax import lax\n",
    "PRNGKey = Any\n",
    "Shape = Tuple[int, ...]\n",
    "Dtype = Any  # this could be a real type?\n",
    "Array = Any\n",
    "default_kernel_init = initializers.lecun_normal()\n",
    "from jax.random import PRNGKey, split\n",
    "import optax"
   ]
  },
  {
   "cell_type": "code",
   "execution_count": 12,
   "metadata": {},
   "outputs": [],
   "source": [
    "class BNNLayer(nn.Module):\n",
    "\n",
    "    features: int\n",
    "    prior_pi: float\n",
    "    prior_var1: float\n",
    "    prior_var2: float\n",
    "    parameter_init: Callable = nn.initializers.lecun_normal()\n",
    "\n",
    "    @compact\n",
    "    def __call__(self, key: random.PRNGKey, inputs):\n",
    "        # Variational Parameters\n",
    "        mus = self.param(\n",
    "            \"mus\", \n",
    "            self.parameter_init, \n",
    "            (jnp.shape(inputs)[-1] + 1, self.features)) # +1 for bias\n",
    "        rhos = self.param(\n",
    "            \"rhos\",\n",
    "            self.parameter_init,\n",
    "            (jnp.shape(inputs)[-1] + 1, self.features) # +1 for bias\n",
    "        )\n",
    "\n",
    "        # Sample weights\n",
    "        weights_and_biases = samplevariational_fn(\n",
    "            mus=mus,\n",
    "            rhos=rhos,\n",
    "            key=key,\n",
    "        )\n",
    "\n",
    "\n",
    "        weights = weights_and_biases[:-1]\n",
    "        biases = weights_and_biases[-1]\n",
    "\n",
    "        \n",
    "\n",
    "        y = jnp.dot(inputs, weights) + biases\n",
    "\n",
    "\n",
    "        log_variational_density = logvariational_fn(\n",
    "            weights=weights,\n",
    "            mus=mus,\n",
    "            rhos=rhos,\n",
    "        )\n",
    "        log_prior_density = logprior_fn(\n",
    "            weights=weights,\n",
    "            pi=self.prior_pi,\n",
    "            var1=self.prior_var1,\n",
    "            var2=self.prior_var2,\n",
    "        )\n",
    "        return y, log_variational_density, log_prior_density\n",
    "\n"
   ]
  },
  {
   "cell_type": "code",
   "execution_count": 13,
   "metadata": {},
   "outputs": [],
   "source": [
    "# from jax.random import split , PRNGKey\n",
    "\n",
    "# key = PRNGKey(123)\n",
    "\n",
    "\n",
    "# key, subkey = split(key)\n",
    "# x = random.uniform(subkey, (1,1))\n",
    "# model = BNNLayer(features=1, prior_pi=0.5, prior_var1=0.9, prior_var2=0.01)\n",
    "\n",
    "\n",
    "# key, rng = split(key)\n",
    "# key, sampling_key = split(key)\n",
    "# params = model.init(\n",
    "#     rngs=rng, \n",
    "#     sampling_key=sampling_key,  \n",
    "#     inputs=x, \n",
    "#     n_samples=1)\n",
    "\n",
    "# key, subkey = split(key)\n",
    "# out, log_variational_density, log_prior_density = model.apply(params, subkey, x, 1)\n",
    "\n",
    "\n",
    "# # Likelihood loss functions\n",
    "# def categorical_nll(logits, y):\n",
    "#     num_classes = logits.shape[-1]\n",
    "#     labels = jax.nn.one_hot(y, num_classes)\n",
    "#     return -jnp.sum(labels * jax.nn.log_softmax(logits))\n",
    "\n",
    "# def mse(params, model_apply, x, y):\n",
    "#     logits = model_apply(params, subkey, x, 1)[0]\n",
    "#     return jnp.mean((logits - y)**2)"
   ]
  },
  {
   "cell_type": "code",
   "execution_count": 14,
   "metadata": {},
   "outputs": [
    {
     "data": {
      "image/png": "[encoded data removed]",
      "text/plain": [
       "<Figure size 640x480 with 1 Axes>"
      ]
     },
     "metadata": {},
     "output_type": "display_data"
    }
   ],
   "source": [
    "import numpy as np\n",
    "\n",
    "xs = np.random.normal(size=(100,1))\n",
    "noise = np.random.normal(scale=0.1, size=(100,1))\n",
    "ys = xs * 3 - 1 + noise\n",
    "\n",
    "plt.scatter(xs, ys);"
   ]
  },
  {
   "cell_type": "code",
   "execution_count": 15,
   "metadata": {},
   "outputs": [],
   "source": [
    "# from functools import partial\n",
    "\n",
    "# @partial(jax.jit, static_argnums=0)\n",
    "# def elbo(model_apply, params, x, y, rng):\n",
    "    \n",
    "#     logits, log_variational_density, log_prior_density = model_apply(params, rng, x, 1)\n",
    "\n",
    "#     nll = mse(logits, y)\n",
    "    \n",
    "#     return nll\n",
    "\n",
    "# d_elbo = jax.value_and_grad(elbo, argnums=1)"
   ]
  },
  {
   "cell_type": "code",
   "execution_count": 16,
   "metadata": {},
   "outputs": [],
   "source": [
    "key = PRNGKey(123)\n",
    "\n",
    "key, subkey = split(key)\n",
    "key, sampling_key = split(key)\n",
    "model = BNNLayer(1, 0.5, 0.9, 0.01)\n",
    "params = model.init(subkey, sampling_key, xs[0])"
   ]
  },
  {
   "cell_type": "code",
   "execution_count": 18,
   "metadata": {},
   "outputs": [],
   "source": [
    "opt = optax.sgd(learning_rate=0.1)\n",
    "opt_state = opt.init(params)\n",
    "\n",
    "\n",
    "\n",
    "def loss_fn(params, model, xs, ys, key):\n",
    "    key, subkey = split(key)\n",
    "    logits = model.apply(params, subkey, xs)[0]\n",
    "    return jnp.mean((logits-ys)**2)\n",
    "\n",
    "\n",
    "for _ in range(1000):\n",
    "    key, subkey = split(key)\n",
    "    grad = jax.grad(loss_fn)(params, model, xs, ys, subkey)\n",
    "    updates, opt_state = opt.update(grad, opt_state, params)\n",
    "    params = optax.apply_updates(params, updates)"
   ]
  },
  {
   "cell_type": "code",
   "execution_count": 20,
   "metadata": {},
   "outputs": [
    {
     "data": {
      "text/plain": [
       "[<matplotlib.lines.Line2D at 0x28abb2f80>]"
      ]
     },
     "execution_count": 20,
     "metadata": {},
     "output_type": "execute_result"
    },
    {
     "data": {
      "image/png": "[encoded data removed]",
      "text/plain": [
       "<Figure size 640x480 with 1 Axes>"
      ]
     },
     "metadata": {},
     "output_type": "display_data"
    }
   ],
   "source": [
    "plt.scatter(xs, ys)\n",
    "plt.plot(xs, model.apply(params, subkey, xs)[0])"
   ]
  },
  {
   "cell_type": "code",
   "execution_count": 21,
   "metadata": {},
   "outputs": [
    {
     "name": "stdout",
     "output_type": "stream",
     "text": [
      "FrozenDict({\n",
      "    params: {\n",
      "        mus: Array([[ 2.9786103],\n",
      "               [-0.9991565]], dtype=float32),\n",
      "        rhos: Array([[-2.957851 ],\n",
      "               [-2.9246104]], dtype=float32),\n",
      "    },\n",
      "})\n"
     ]
    }
   ],
   "source": [
    "print(params)"
   ]
  },
  {
   "cell_type": "code",
   "execution_count": 22,
   "metadata": {},
   "outputs": [
    {
     "name": "stdout",
     "output_type": "stream",
     "text": [
      "[[ 2.9763126]\n",
      " [-0.9619925]]\n"
     ]
    }
   ],
   "source": [
    "print(samplevariational_fn(params[\"params\"][\"mus\"], params[\"params\"][\"rhos\"], key))"
   ]
  },
  {
   "cell_type": "code",
   "execution_count": null,
   "metadata": {},
   "outputs": [],
   "source": []
  }
 ],
 "metadata": {
  "kernelspec": {
   "display_name": ".venv",
   "language": "python",
   "name": "python3"
  },
  "language_info": {
   "codemirror_mode": {
    "name": "ipython",
    "version": 3
   },
   "file_extension": ".py",
   "mimetype": "text/x-python",
   "name": "python",
   "nbconvert_exporter": "python",
   "pygments_lexer": "ipython3",
   "version": "3.10.10"
  },
  "orig_nbformat": 4
 },
 "nbformat": 4,
 "nbformat_minor": 2
}
