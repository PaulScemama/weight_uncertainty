{
 "cells": [
  {
   "cell_type": "code",
   "execution_count": 1,
   "metadata": {},
   "outputs": [],
   "source": [
    "import torch\n",
    "import scipy.stats as stats "
   ]
  },
  {
   "attachments": {},
   "cell_type": "markdown",
   "metadata": {},
   "source": [
    "- When using the `logpdf()`, it doesn't matter if we treat each weight as a univariate Gaussian, or if we treat each weight as a multivariate diagonal gaussian. The total log probability for a set of each is the same.\n",
    "\n",
    "- It is only when using `pdf()` does this matter.\n",
    "\n",
    "- I will show here the equivalency"
   ]
  },
  {
   "attachments": {},
   "cell_type": "markdown",
   "metadata": {},
   "source": [
    "With `logpdf()`"
   ]
  },
  {
   "cell_type": "code",
   "execution_count": 2,
   "metadata": {},
   "outputs": [
    {
     "name": "stdout",
     "output_type": "stream",
     "text": [
      "-183.64011421577197\n",
      "-183.64011406823528\n"
     ]
    }
   ],
   "source": [
    "# 2 mean vectors\n",
    "mus = torch.tensor([\n",
    "    [1., 2., 3.],\n",
    "    [20., 20., 20.],\n",
    "])\n",
    "# 2 std vectors\n",
    "sigmas = torch.tensor([\n",
    "    [1., 2., 1.],\n",
    "    [3., 3., 1.]\n",
    "])\n",
    "# 2 weight vectors\n",
    "weights = torch.tensor([\n",
    "    [5., 5., 5.],\n",
    "    [1., 3., 4.]\n",
    "])\n",
    "\n",
    "## Option 1: treat each mu/sigma/weight as mu/sigma governing a Univariate Gaussian for which the weight should be evaluated under.\n",
    "unraveled_mus = mus.ravel()\n",
    "unraveled_stds = sigmas.ravel()\n",
    "unraveled_weights = weights.ravel()\n",
    "print(stats.norm.logpdf(unraveled_weights, unraveled_mus, unraveled_stds).sum())\n",
    "# -183.64011421577197\n",
    "\n",
    "## Option 2: treat each 3-dim vector triplet ([mu]/[sigma]/[weight]) as [mu]/[sigma] governing a Multivariate Gaussian for which the [weight] vector should be evaluated under.\n",
    "logprob1 = stats.multivariate_normal.logpdf(weights[0], mus[0], sigmas[0]**2) # HAVE TO SQUARE CUS IT EXPECTS COVARIANCE DIAGONALS\n",
    "logprob2 = stats.multivariate_normal.logpdf(weights[1], mus[1], sigmas[1]**2)\n",
    "print(logprob1 + logprob2)\n",
    "# -183.64011406823528"
   ]
  },
  {
   "attachments": {},
   "cell_type": "markdown",
   "metadata": {},
   "source": [
    "With `pdf()`"
   ]
  },
  {
   "cell_type": "code",
   "execution_count": 3,
   "metadata": {},
   "outputs": [
    {
     "name": "stdout",
     "output_type": "stream",
     "text": [
      "0.11888360898748873\n",
      "4.6792267446882494e-07\n"
     ]
    }
   ],
   "source": [
    "# 2 mean vectors\n",
    "mus = torch.tensor([\n",
    "    [1., 2., 3.],\n",
    "    [20., 20., 20.],\n",
    "])\n",
    "# 2 std vectors\n",
    "sigmas = torch.tensor([\n",
    "    [1., 2., 1.],\n",
    "    [3., 3., 1.]\n",
    "])\n",
    "# 2 weight vectors\n",
    "weights = torch.tensor([\n",
    "    [5., 5., 5.],\n",
    "    [1., 3., 4.]\n",
    "])\n",
    "\n",
    "## Option 1: treat each mu/sigma/weight as mu/sigma governing a Univariate Gaussian for which the weight should be evaluated under.\n",
    "unraveled_mus = mus.ravel()\n",
    "unraveled_stds = sigmas.ravel()\n",
    "unraveled_weights = weights.ravel()\n",
    "print(stats.norm.pdf(unraveled_weights, unraveled_mus, unraveled_stds).sum())\n",
    "# 0.11888360898748873\n",
    "## Option 2: treat each 3-dim vector triplet ([mu]/[sigma]/[weight]) as [mu]/[sigma] governing a Multivariate Gaussian for which the [weight] vector should be evaluated under.\n",
    "logprob1 = stats.multivariate_normal.pdf(weights[0], mus[0], sigmas[0]**2) # HAVE TO SQUARE CUS IT EXPECTS COVARIANCE DIAGONALS\n",
    "logprob2 = stats.multivariate_normal.pdf(weights[1], mus[1], sigmas[1]**2)\n",
    "print(logprob1 + logprob2)\n",
    "# 4.6792267446882494e-07"
   ]
  },
  {
   "cell_type": "code",
   "execution_count": null,
   "metadata": {},
   "outputs": [],
   "source": []
  }
 ],
 "metadata": {
  "kernelspec": {
   "display_name": ".venv",
   "language": "python",
   "name": "python3"
  },
  "language_info": {
   "codemirror_mode": {
    "name": "ipython",
    "version": 3
   },
   "file_extension": ".py",
   "mimetype": "text/x-python",
   "name": "python",
   "nbconvert_exporter": "python",
   "pygments_lexer": "ipython3",
   "version": "3.11.2"
  },
  "orig_nbformat": 4
 },
 "nbformat": 4,
 "nbformat_minor": 2
}
