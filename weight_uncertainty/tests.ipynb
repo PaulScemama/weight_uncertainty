{
 "cells": [
  {
   "cell_type": "code",
   "execution_count": 1,
   "metadata": {},
   "outputs": [],
   "source": [
    "from bayesian_nn import sigmas_from_rhos, logvariational_fn, samplevariational_fn, rhos_from_sigmas\n",
    "import numpy as np\n",
    "import scipy.stats as stats\n",
    "import pytest\n",
    "import torch"
   ]
  },
  {
   "cell_type": "code",
   "execution_count": 2,
   "metadata": {},
   "outputs": [],
   "source": [
    "\n",
    "pytest.mark.parametrize(\"weights mus sigmas\",\n",
    "                        [\n",
    "    (torch.ones((3,2)), torch.ones((3,2)) * 2, torch.arange(1,7).reshape(3,2)),\n",
    "    (torch.ones((2,)), torch.ones((2,)) * 2, torch.arange(2,4).reshape(2,))\n",
    "                        ])\n",
    "def test_logvariational_fn(weights, mus, sigmas):\n",
    "    results = logvariational_fn(weights, mus, sigmas)\n",
    "    for i, result in enumerate(results):\n",
    "        ground_truth = stats.multivariate_normal.logpdf(weights[i], mus[i], sigmas[i])\n",
    "        assert np.allclose(result, ground_truth)\n",
    "\n"
   ]
  },
  {
   "cell_type": "code",
   "execution_count": 6,
   "metadata": {},
   "outputs": [],
   "source": [
    "weights, mus, rhos = (torch.ones((2,2)), torch.ones((2,2)) * 2, torch.ones((2,2)))"
   ]
  },
  {
   "cell_type": "code",
   "execution_count": 7,
   "metadata": {},
   "outputs": [
    {
     "data": {
      "text/plain": [
       "(torch.Size([2, 2]), torch.Size([2, 2]), torch.Size([2, 2]))"
      ]
     },
     "execution_count": 7,
     "metadata": {},
     "output_type": "execute_result"
    }
   ],
   "source": [
    "weights.shape, mus.shape, rhos.shape"
   ]
  },
  {
   "cell_type": "code",
   "execution_count": 8,
   "metadata": {},
   "outputs": [
    {
     "data": {
      "text/plain": [
       "tensor([-2.9627, -2.9627])"
      ]
     },
     "execution_count": 8,
     "metadata": {},
     "output_type": "execute_result"
    }
   ],
   "source": [
    "logvariational_fn(weights, mus, rhos)"
   ]
  },
  {
   "cell_type": "code",
   "execution_count": 27,
   "metadata": {},
   "outputs": [],
   "source": [
    "def rhos_from_sigmas(sigmas):\n",
    "    return torch.log(torch.exp(sigmas) - 1)"
   ]
  },
  {
   "cell_type": "code",
   "execution_count": 31,
   "metadata": {},
   "outputs": [
    {
     "name": "stdout",
     "output_type": "stream",
     "text": [
      "tensor([[1., 1.],\n",
      "        [1., 1.]])\n",
      "tensor([[1.3133, 1.3133],\n",
      "        [1.3133, 1.3133]])\n",
      "tensor([[1.0000, 1.0000],\n",
      "        [1.0000, 1.0000]])\n"
     ]
    }
   ],
   "source": [
    "print(rhos)\n",
    "sigmas = sigmas_from_rhos(rhos)\n",
    "print(sigmas)\n",
    "rhos = rhos_from_sigmas(sigmas)\n",
    "print(rhos)"
   ]
  },
  {
   "cell_type": "code",
   "execution_count": 11,
   "metadata": {},
   "outputs": [
    {
     "data": {
      "text/plain": [
       "-2.9627304762584226"
      ]
     },
     "execution_count": 11,
     "metadata": {},
     "output_type": "execute_result"
    }
   ],
   "source": [
    "stats.multivariate_normal.logpdf(weights[0], mus[0], variances[0])"
   ]
  },
  {
   "cell_type": "code",
   "execution_count": null,
   "metadata": {},
   "outputs": [],
   "source": [
    "n_samples = 10\n",
    "mus = torch.ones((2,3))\n",
    "sigmas = torch.ones((2,3))\n",
    "epsilons = \n",
    "\n",
    "samplevariational_fn(n_samples, mus, sigmas, epsilons)"
   ]
  },
  {
   "cell_type": "code",
   "execution_count": 4,
   "metadata": {},
   "outputs": [],
   "source": [
    "import time"
   ]
  },
  {
   "cell_type": "code",
   "execution_count": null,
   "metadata": {},
   "outputs": [],
   "source": []
  },
  {
   "cell_type": "code",
   "execution_count": 27,
   "metadata": {},
   "outputs": [],
   "source": [
    "def test_vectorized_gaussian_logpdf():\n",
    "    n = 128**2\n",
    "    d = 4\n",
    "\n",
    "    means = torch.FloatTensor(n,d).uniform_(-1, 1)\n",
    "    covariances = torch.FloatTensor(n,d).uniform_(0, 2)\n",
    "    rhos = rhos_from_sigmas(covariances.sqrt())\n",
    "    X = torch.FloatTensor(n,d).uniform_(-1, 1)\n",
    "\n",
    "    refs = []\n",
    "\n",
    "    ref_start = time.time()\n",
    "    for x, mean, covariance in zip(X, means, covariances):\n",
    "        refs.append(stats.multivariate_normal.logpdf(x, mean, covariance))\n",
    "    ref_time = time.time() - ref_start\n",
    "\n",
    "    fast_start = time.time()\n",
    "    results = logvariational_fn(X, means, rhos)\n",
    "    fast_time = time.time() - fast_start\n",
    "\n",
    "    print(\"Reference time:\", ref_time)\n",
    "    print(\"Vectorized time:\", fast_time)\n",
    "    print(\"Speedup:\", ref_time / fast_time)\n",
    "\n",
    "    refs = np.array(refs)\n",
    "\n",
    "    print(results)\n",
    "    print(refs)\n",
    "    assert np.allclose(results, refs, atol=1e-2)"
   ]
  },
  {
   "cell_type": "code",
   "execution_count": 28,
   "metadata": {},
   "outputs": [
    {
     "name": "stdout",
     "output_type": "stream",
     "text": [
      "Reference time: 0.7334489822387695\n",
      "Vectorized time: 0.000988006591796875\n",
      "Speedup: 742.3523166023166\n",
      "tensor([-4.5360, -7.6813, -9.2519,  ..., -4.6330, -3.9440, -7.1242])\n",
      "[-4.53596129 -7.68133213 -9.25190601 ... -4.63296877 -3.94398697\n",
      " -7.12425061]\n"
     ]
    }
   ],
   "source": [
    "test_vectorized_gaussian_logpdf()"
   ]
  },
  {
   "cell_type": "code",
   "execution_count": null,
   "metadata": {},
   "outputs": [],
   "source": []
  }
 ],
 "metadata": {
  "kernelspec": {
   "display_name": ".venv",
   "language": "python",
   "name": "python3"
  },
  "language_info": {
   "codemirror_mode": {
    "name": "ipython",
    "version": 3
   },
   "file_extension": ".py",
   "mimetype": "text/x-python",
   "name": "python",
   "nbconvert_exporter": "python",
   "pygments_lexer": "ipython3",
   "version": "3.10.10"
  },
  "orig_nbformat": 4
 },
 "nbformat": 4,
 "nbformat_minor": 2
}
