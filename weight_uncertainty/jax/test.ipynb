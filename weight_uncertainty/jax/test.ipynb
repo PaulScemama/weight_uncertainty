{
 "cells": [
  {
   "cell_type": "code",
   "execution_count": 8,
   "metadata": {},
   "outputs": [],
   "source": [
    "import jax.random as random\n",
    "\n",
    "from basic import sigmas_from_rhos, logvariational_fn, samplevariational_fn, logprior_fn"
   ]
  },
  {
   "cell_type": "code",
   "execution_count": 13,
   "metadata": {},
   "outputs": [
    {
     "name": "stdout",
     "output_type": "stream",
     "text": [
      "sigmas_from_rhos output \n",
      " [[2.2493134 3.164183 ]\n",
      " [3.419316  2.5468686]\n",
      " [3.1162317 3.3003511]\n",
      " [2.9455853 1.4795009]\n",
      " [2.6187377 4.447685 ]] \n",
      "\n",
      "logvariational_fn output \n",
      " [-1.7313914 -2.6805353 -2.5556223 -2.1219256 -2.2418165 -2.1129832\n",
      " -2.4747694 -2.4682522 -2.1136668 -2.4193847] \n",
      "\n",
      "samplevariational_fn output \n",
      " [[ 5.157359   -5.8724775 ]\n",
      " [ 3.607466   -0.7582555 ]\n",
      " [-0.3127942   3.908208  ]\n",
      " [ 0.36584783  3.9074981 ]\n",
      " [ 3.313917   -0.2753384 ]] \n",
      "\n",
      "logprior_fn output \n",
      " [ -7.8794947 -20.840347  -12.243584  -10.169468  -16.752762   -5.279835\n",
      "  -9.730583  -11.013876  -12.093863  -12.594761 ]\n"
     ]
    }
   ],
   "source": [
    "key = random.PRNGKey(0)\n",
    "sample_key, mu_key, rho_key, weights_key = random.split(key, 4)\n",
    "\n",
    "mus = random.normal(mu_key, (5,2)) + 2\n",
    "rhos = random.normal(rho_key, (5,2)) + 3\n",
    "weights = random.normal(weights_key, (5,2)) + 4\n",
    "\n",
    "pi = .5\n",
    "var1 = .8\n",
    "var2 = 0.005\n",
    "\n",
    "print(f\"sigmas_from_rhos output \\n {sigmas_from_rhos(rhos)} \\n\")\n",
    "print(f\"logvariational_fn output \\n {logvariational_fn(weights, mus, rhos)} \\n\")\n",
    "print(f\"samplevariational_fn output \\n {samplevariational_fn(mus, rhos, sample_key)} \\n\")\n",
    "print(f\"logprior_fn output \\n {logprior_fn(weights, pi, var1, var2)}\")\n"
   ]
  },
  {
   "cell_type": "code",
   "execution_count": null,
   "metadata": {},
   "outputs": [],
   "source": []
  }
 ],
 "metadata": {
  "kernelspec": {
   "display_name": ".venv",
   "language": "python",
   "name": "python3"
  },
  "language_info": {
   "codemirror_mode": {
    "name": "ipython",
    "version": 3
   },
   "file_extension": ".py",
   "mimetype": "text/x-python",
   "name": "python",
   "nbconvert_exporter": "python",
   "pygments_lexer": "ipython3",
   "version": "3.11.2"
  },
  "orig_nbformat": 4
 },
 "nbformat": 4,
 "nbformat_minor": 2
}
