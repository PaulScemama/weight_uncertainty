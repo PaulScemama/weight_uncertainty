{
 "cells": [
  {
   "cell_type": "code",
   "execution_count": 2,
   "metadata": {},
   "outputs": [],
   "source": [
    "import jax.random as random\n",
    "\n",
    "from basic import sigmas_from_rhos, logvariational_fn, samplevariational_fn, logprior_fn"
   ]
  },
  {
   "cell_type": "code",
   "execution_count": 2,
   "metadata": {},
   "outputs": [
    {
     "ename": "",
     "evalue": "",
     "output_type": "error",
     "traceback": [
      "\u001b[1;31mCanceled future for execute_request message before replies were done"
     ]
    },
    {
     "ename": "",
     "evalue": "",
     "output_type": "error",
     "traceback": [
      "\u001b[1;31mThe Kernel crashed while executing code in the the current cell or a previous cell. Please review the code in the cell(s) to identify a possible cause of the failure. Click <a href='https://aka.ms/vscodeJupyterKernelCrash'>here</a> for more info. View Jupyter <a href='command:jupyter.viewOutput'>log</a> for further details."
     ]
    }
   ],
   "source": [
    "key = random.PRNGKey(0)\n",
    "sample_key, mu_key, rho_key, weights_key = random.split(key, 4)\n",
    "\n",
    "mus = random.normal(mu_key, (5,2)) + 2\n",
    "rhos = random.normal(rho_key, (5,2)) + 3\n",
    "weights = random.normal(weights_key, (5,2)) + 4\n",
    "\n",
    "pi = .5\n",
    "var1 = .8\n",
    "var2 = 0.005\n",
    "\n",
    "print(f\"sigmas_from_rhos output \\n {sigmas_from_rhos(rhos)} \\n\")\n",
    "print(f\"logvariational_fn output \\n {logvariational_fn(weights, mus, rhos)} \\n\")\n",
    "print(f\"samplevariational_fn output \\n {samplevariational_fn(mus, rhos, sample_key)} \\n\")\n",
    "print(f\"logprior_fn output \\n {logprior_fn(weights, pi, var1, var2)}\")\n"
   ]
  },
  {
   "cell_type": "code",
   "execution_count": null,
   "metadata": {},
   "outputs": [],
   "source": []
  }
 ],
 "metadata": {
  "kernelspec": {
   "display_name": ".venv",
   "language": "python",
   "name": "python3"
  },
  "language_info": {
   "codemirror_mode": {
    "name": "ipython",
    "version": 3
   },
   "file_extension": ".py",
   "mimetype": "text/x-python",
   "name": "python",
   "nbconvert_exporter": "python",
   "pygments_lexer": "ipython3",
   "version": "3.11.2"
  },
  "orig_nbformat": 4
 },
 "nbformat": 4,
 "nbformat_minor": 2
}
